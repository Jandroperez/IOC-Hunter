{
 "cells": [
  {
   "cell_type": "markdown",
   "metadata": {},
   "source": [
    "# __IOC Hunting__\n",
    "### By: Alejandro Perez\n",
    "----------------------------\n",
    "\n",
    "\n",
    "## Introduction\n",
    "This Notebook will be used as an test case where we will use the ThreatFox API\n",
    "to pull the most recent IOC's that have been verified and then pivot from those\n",
    "to using Data from other Sources such as VirusTotal, and GreyNoise\n",
    "\n"
   ]
  },
  {
   "cell_type": "code",
   "execution_count": 1,
   "metadata": {},
   "outputs": [],
   "source": [
    "from src.ThreatFoxUtils import ThreatFox\n",
    "from src.VirusTotalUtils import VirusTotal\n",
    "from src.GreyNoiseUtils import Greynoise\n",
    "import pandas as pd\n",
    "from pandas import json_normalize\n",
    "import ipywidgets as widgets\n",
    "from IPython.display import clear_output\n",
    "import json\n",
    "import time"
   ]
  },
  {
   "cell_type": "code",
   "execution_count": 2,
   "metadata": {},
   "outputs": [],
   "source": [
    "# This will use the Config File in order to \n",
    "with open('config.json') as config:\n",
    "    configData = json.load(config)"
   ]
  },
  {
   "cell_type": "code",
   "execution_count": 3,
   "metadata": {},
   "outputs": [],
   "source": [
    "# Instantiating the VirusTotal API Key from the config file and saving it in a Variable\n",
    "VT = VirusTotal(ApiKey=configData['VirusTotal Api Key'])"
   ]
  },
  {
   "cell_type": "code",
   "execution_count": 4,
   "metadata": {},
   "outputs": [
    {
     "output_type": "stream",
     "name": "stdout",
     "text": [
      "[-] Gathering IOC's from past 1 days...\n",
      "[+] IOC Data has been Gathered\n"
     ]
    }
   ],
   "source": [
    "# Gathering the IOC's for the past day\n",
    "IocData = ThreatFox.query_ioc_database(number_of_days=1)"
   ]
  },
  {
   "cell_type": "code",
   "execution_count": 5,
   "metadata": {},
   "outputs": [
    {
     "output_type": "execute_result",
     "data": {
      "text/plain": [
       "      id                                                ioc threat_type  \\\n",
       "69  7865           http://51.195.53.221/p.php/3bZQklG6hGLlX   botnet_cc   \n",
       "5   7929                http://cupazo.co.in/TyBmo/index.php   botnet_cc   \n",
       "74  7861                            http://94.140.115.43/1/   botnet_cc   \n",
       "73  7860                            http://94.140.114.59/1/   botnet_cc   \n",
       "62  7872  bf96b03f848b9893bcc13415f1cddb431a77c8c3551a79...     payload   \n",
       "76  7858                                  45.32.99.249:7707   botnet_cc   \n",
       "17  7917                http://104.168.140.79/ghost/fre.php   botnet_cc   \n",
       "38  7897  53fcaac5d5ca8caeb3d2e9b19a9e628b89fea8fb3f7dc7...     payload   \n",
       "51  7887  6a3dbe59e320ddf283fdf1177f3345bba999e7b55e5c2f...     payload   \n",
       "47  7883  b5805e39212764c862be2a08240645a996b89526ab2fbb...     payload   \n",
       "\n",
       "                                     threat_type_desc     ioc_type  \\\n",
       "69  Indicator that identifies a botnet command&con...          url   \n",
       "5   Indicator that identifies a botnet command&con...          url   \n",
       "74  Indicator that identifies a botnet command&con...          url   \n",
       "73  Indicator that identifies a botnet command&con...          url   \n",
       "62  Indicator that identifies a malware sample (pa...  sha256_hash   \n",
       "76  Indicator that identifies a botnet command&con...      ip:port   \n",
       "17  Indicator that identifies a botnet command&con...          url   \n",
       "38  Indicator that identifies a malware sample (pa...  sha256_hash   \n",
       "51  Indicator that identifies a malware sample (pa...  sha256_hash   \n",
       "47  Indicator that identifies a malware sample (pa...  sha256_hash   \n",
       "\n",
       "                                        ioc_type_desc          malware  \\\n",
       "69  URL that is used for botnet Command&control (C&C)      win.lokipws   \n",
       "5   URL that is used for botnet Command&control (C&C)      win.azorult   \n",
       "74  URL that is used for botnet Command&control (C&C)  win.smokeloader   \n",
       "73  URL that is used for botnet Command&control (C&C)  win.smokeloader   \n",
       "62          SHA256 hash of a malware sample (payload)  win.agent_tesla   \n",
       "76  ip:port combination that is used for botnet Co...     win.asyncrat   \n",
       "17  URL that is used for botnet Command&control (C&C)      win.lokipws   \n",
       "38          SHA256 hash of a malware sample (payload)     win.nanocore   \n",
       "51          SHA256 hash of a malware sample (payload)     win.formbook   \n",
       "47          SHA256 hash of a malware sample (payload)  win.agent_tesla   \n",
       "\n",
       "              malware_printable                     malware_alias  \\\n",
       "69  Loki Password Stealer (PWS)              Loki,LokiPWS,LokiBot   \n",
       "5                       Azorult               PuffStealer,Rultazo   \n",
       "74                  SmokeLoader  Dofoil,Sharik,Smoke,Smoke Loader   \n",
       "73                  SmokeLoader  Dofoil,Sharik,Smoke,Smoke Loader   \n",
       "62                  Agent Tesla    AgenTesla,AgentTesla,Negasteal   \n",
       "76                     AsyncRAT                              None   \n",
       "17  Loki Password Stealer (PWS)              Loki,LokiPWS,LokiBot   \n",
       "38                 Nanocore RAT                  Nancrat,NanoCore   \n",
       "51                     Formbook                              None   \n",
       "47                  Agent Tesla    AgenTesla,AgentTesla,Negasteal   \n",
       "\n",
       "                                     malware_malpedia  confidence_level  \\\n",
       "69  https://malpedia.caad.fkie.fraunhofer.de/detai...               100   \n",
       "5   https://malpedia.caad.fkie.fraunhofer.de/detai...               100   \n",
       "74  https://malpedia.caad.fkie.fraunhofer.de/detai...                75   \n",
       "73  https://malpedia.caad.fkie.fraunhofer.de/detai...                75   \n",
       "62  https://malpedia.caad.fkie.fraunhofer.de/detai...                50   \n",
       "76  https://malpedia.caad.fkie.fraunhofer.de/detai...                75   \n",
       "17  https://malpedia.caad.fkie.fraunhofer.de/detai...               100   \n",
       "38  https://malpedia.caad.fkie.fraunhofer.de/detai...                50   \n",
       "51  https://malpedia.caad.fkie.fraunhofer.de/detai...                50   \n",
       "47  https://malpedia.caad.fkie.fraunhofer.de/detai...                50   \n",
       "\n",
       "                 first_seen last_seen  \\\n",
       "69  2021-04-13 06:00:25 UTC      None   \n",
       "5   2021-04-13 23:35:17 UTC      None   \n",
       "74  2021-04-13 05:50:08 UTC      None   \n",
       "73  2021-04-13 05:50:08 UTC      None   \n",
       "62  2021-04-13 07:03:29 UTC      None   \n",
       "76  2021-04-13 05:40:29 UTC      None   \n",
       "17  2021-04-13 20:50:19 UTC      None   \n",
       "38  2021-04-13 12:03:32 UTC      None   \n",
       "51  2021-04-13 09:03:28 UTC      None   \n",
       "47  2021-04-13 09:03:28 UTC      None   \n",
       "\n",
       "                                            reference    reporter  \\\n",
       "69                                               None    abuse_ch   \n",
       "5                                                None    abuse_ch   \n",
       "74  https://bazaar.abuse.ch/sample/6b2e23e38be7ad2...    abuse_ch   \n",
       "73  https://bazaar.abuse.ch/sample/06b686985f42468...    abuse_ch   \n",
       "62  https://twitter.com/RedBeardIOCs/status/138186...  Virus_Deck   \n",
       "76  https://bazaar.abuse.ch/sample/1dcf43f57f670d1...    abuse_ch   \n",
       "17                                               None    abuse_ch   \n",
       "38  https://twitter.com/RedBeardIOCs/status/138194...  Virus_Deck   \n",
       "51  https://twitter.com/RedBeardIOCs/status/138189...  Virus_Deck   \n",
       "47  https://twitter.com/RedBeardIOCs/status/138189...  Virus_Deck   \n",
       "\n",
       "             tags  \n",
       "69         [Loki]  \n",
       "5       [AZORult]  \n",
       "74  [smokeloader]  \n",
       "73  [smokeloader]  \n",
       "62   [AgentTesla]  \n",
       "76     [asyncrat]  \n",
       "17         [Loki]  \n",
       "38     [NanoCore]  \n",
       "51     [Formbook]  \n",
       "47   [AgentTesla]  "
      ],
      "text/html": "<div>\n<style scoped>\n    .dataframe tbody tr th:only-of-type {\n        vertical-align: middle;\n    }\n\n    .dataframe tbody tr th {\n        vertical-align: top;\n    }\n\n    .dataframe thead th {\n        text-align: right;\n    }\n</style>\n<table border=\"1\" class=\"dataframe\">\n  <thead>\n    <tr style=\"text-align: right;\">\n      <th></th>\n      <th>id</th>\n      <th>ioc</th>\n      <th>threat_type</th>\n      <th>threat_type_desc</th>\n      <th>ioc_type</th>\n      <th>ioc_type_desc</th>\n      <th>malware</th>\n      <th>malware_printable</th>\n      <th>malware_alias</th>\n      <th>malware_malpedia</th>\n      <th>confidence_level</th>\n      <th>first_seen</th>\n      <th>last_seen</th>\n      <th>reference</th>\n      <th>reporter</th>\n      <th>tags</th>\n    </tr>\n  </thead>\n  <tbody>\n    <tr>\n      <th>69</th>\n      <td>7865</td>\n      <td>http://51.195.53.221/p.php/3bZQklG6hGLlX</td>\n      <td>botnet_cc</td>\n      <td>Indicator that identifies a botnet command&amp;con...</td>\n      <td>url</td>\n      <td>URL that is used for botnet Command&amp;control (C&amp;C)</td>\n      <td>win.lokipws</td>\n      <td>Loki Password Stealer (PWS)</td>\n      <td>Loki,LokiPWS,LokiBot</td>\n      <td>https://malpedia.caad.fkie.fraunhofer.de/detai...</td>\n      <td>100</td>\n      <td>2021-04-13 06:00:25 UTC</td>\n      <td>None</td>\n      <td>None</td>\n      <td>abuse_ch</td>\n      <td>[Loki]</td>\n    </tr>\n    <tr>\n      <th>5</th>\n      <td>7929</td>\n      <td>http://cupazo.co.in/TyBmo/index.php</td>\n      <td>botnet_cc</td>\n      <td>Indicator that identifies a botnet command&amp;con...</td>\n      <td>url</td>\n      <td>URL that is used for botnet Command&amp;control (C&amp;C)</td>\n      <td>win.azorult</td>\n      <td>Azorult</td>\n      <td>PuffStealer,Rultazo</td>\n      <td>https://malpedia.caad.fkie.fraunhofer.de/detai...</td>\n      <td>100</td>\n      <td>2021-04-13 23:35:17 UTC</td>\n      <td>None</td>\n      <td>None</td>\n      <td>abuse_ch</td>\n      <td>[AZORult]</td>\n    </tr>\n    <tr>\n      <th>74</th>\n      <td>7861</td>\n      <td>http://94.140.115.43/1/</td>\n      <td>botnet_cc</td>\n      <td>Indicator that identifies a botnet command&amp;con...</td>\n      <td>url</td>\n      <td>URL that is used for botnet Command&amp;control (C&amp;C)</td>\n      <td>win.smokeloader</td>\n      <td>SmokeLoader</td>\n      <td>Dofoil,Sharik,Smoke,Smoke Loader</td>\n      <td>https://malpedia.caad.fkie.fraunhofer.de/detai...</td>\n      <td>75</td>\n      <td>2021-04-13 05:50:08 UTC</td>\n      <td>None</td>\n      <td>https://bazaar.abuse.ch/sample/6b2e23e38be7ad2...</td>\n      <td>abuse_ch</td>\n      <td>[smokeloader]</td>\n    </tr>\n    <tr>\n      <th>73</th>\n      <td>7860</td>\n      <td>http://94.140.114.59/1/</td>\n      <td>botnet_cc</td>\n      <td>Indicator that identifies a botnet command&amp;con...</td>\n      <td>url</td>\n      <td>URL that is used for botnet Command&amp;control (C&amp;C)</td>\n      <td>win.smokeloader</td>\n      <td>SmokeLoader</td>\n      <td>Dofoil,Sharik,Smoke,Smoke Loader</td>\n      <td>https://malpedia.caad.fkie.fraunhofer.de/detai...</td>\n      <td>75</td>\n      <td>2021-04-13 05:50:08 UTC</td>\n      <td>None</td>\n      <td>https://bazaar.abuse.ch/sample/06b686985f42468...</td>\n      <td>abuse_ch</td>\n      <td>[smokeloader]</td>\n    </tr>\n    <tr>\n      <th>62</th>\n      <td>7872</td>\n      <td>bf96b03f848b9893bcc13415f1cddb431a77c8c3551a79...</td>\n      <td>payload</td>\n      <td>Indicator that identifies a malware sample (pa...</td>\n      <td>sha256_hash</td>\n      <td>SHA256 hash of a malware sample (payload)</td>\n      <td>win.agent_tesla</td>\n      <td>Agent Tesla</td>\n      <td>AgenTesla,AgentTesla,Negasteal</td>\n      <td>https://malpedia.caad.fkie.fraunhofer.de/detai...</td>\n      <td>50</td>\n      <td>2021-04-13 07:03:29 UTC</td>\n      <td>None</td>\n      <td>https://twitter.com/RedBeardIOCs/status/138186...</td>\n      <td>Virus_Deck</td>\n      <td>[AgentTesla]</td>\n    </tr>\n    <tr>\n      <th>76</th>\n      <td>7858</td>\n      <td>45.32.99.249:7707</td>\n      <td>botnet_cc</td>\n      <td>Indicator that identifies a botnet command&amp;con...</td>\n      <td>ip:port</td>\n      <td>ip:port combination that is used for botnet Co...</td>\n      <td>win.asyncrat</td>\n      <td>AsyncRAT</td>\n      <td>None</td>\n      <td>https://malpedia.caad.fkie.fraunhofer.de/detai...</td>\n      <td>75</td>\n      <td>2021-04-13 05:40:29 UTC</td>\n      <td>None</td>\n      <td>https://bazaar.abuse.ch/sample/1dcf43f57f670d1...</td>\n      <td>abuse_ch</td>\n      <td>[asyncrat]</td>\n    </tr>\n    <tr>\n      <th>17</th>\n      <td>7917</td>\n      <td>http://104.168.140.79/ghost/fre.php</td>\n      <td>botnet_cc</td>\n      <td>Indicator that identifies a botnet command&amp;con...</td>\n      <td>url</td>\n      <td>URL that is used for botnet Command&amp;control (C&amp;C)</td>\n      <td>win.lokipws</td>\n      <td>Loki Password Stealer (PWS)</td>\n      <td>Loki,LokiPWS,LokiBot</td>\n      <td>https://malpedia.caad.fkie.fraunhofer.de/detai...</td>\n      <td>100</td>\n      <td>2021-04-13 20:50:19 UTC</td>\n      <td>None</td>\n      <td>None</td>\n      <td>abuse_ch</td>\n      <td>[Loki]</td>\n    </tr>\n    <tr>\n      <th>38</th>\n      <td>7897</td>\n      <td>53fcaac5d5ca8caeb3d2e9b19a9e628b89fea8fb3f7dc7...</td>\n      <td>payload</td>\n      <td>Indicator that identifies a malware sample (pa...</td>\n      <td>sha256_hash</td>\n      <td>SHA256 hash of a malware sample (payload)</td>\n      <td>win.nanocore</td>\n      <td>Nanocore RAT</td>\n      <td>Nancrat,NanoCore</td>\n      <td>https://malpedia.caad.fkie.fraunhofer.de/detai...</td>\n      <td>50</td>\n      <td>2021-04-13 12:03:32 UTC</td>\n      <td>None</td>\n      <td>https://twitter.com/RedBeardIOCs/status/138194...</td>\n      <td>Virus_Deck</td>\n      <td>[NanoCore]</td>\n    </tr>\n    <tr>\n      <th>51</th>\n      <td>7887</td>\n      <td>6a3dbe59e320ddf283fdf1177f3345bba999e7b55e5c2f...</td>\n      <td>payload</td>\n      <td>Indicator that identifies a malware sample (pa...</td>\n      <td>sha256_hash</td>\n      <td>SHA256 hash of a malware sample (payload)</td>\n      <td>win.formbook</td>\n      <td>Formbook</td>\n      <td>None</td>\n      <td>https://malpedia.caad.fkie.fraunhofer.de/detai...</td>\n      <td>50</td>\n      <td>2021-04-13 09:03:28 UTC</td>\n      <td>None</td>\n      <td>https://twitter.com/RedBeardIOCs/status/138189...</td>\n      <td>Virus_Deck</td>\n      <td>[Formbook]</td>\n    </tr>\n    <tr>\n      <th>47</th>\n      <td>7883</td>\n      <td>b5805e39212764c862be2a08240645a996b89526ab2fbb...</td>\n      <td>payload</td>\n      <td>Indicator that identifies a malware sample (pa...</td>\n      <td>sha256_hash</td>\n      <td>SHA256 hash of a malware sample (payload)</td>\n      <td>win.agent_tesla</td>\n      <td>Agent Tesla</td>\n      <td>AgenTesla,AgentTesla,Negasteal</td>\n      <td>https://malpedia.caad.fkie.fraunhofer.de/detai...</td>\n      <td>50</td>\n      <td>2021-04-13 09:03:28 UTC</td>\n      <td>None</td>\n      <td>https://twitter.com/RedBeardIOCs/status/138189...</td>\n      <td>Virus_Deck</td>\n      <td>[AgentTesla]</td>\n    </tr>\n  </tbody>\n</table>\n</div>"
     },
     "metadata": {},
     "execution_count": 5
    }
   ],
   "source": [
    "# Displaying 10 random Samples from the Dataset\n",
    "IocData.sample(n=10)"
   ]
  },
  {
   "source": [
    "## __GreyNoise__\n",
    "------------\n",
    "In this Section, We will use Greynoise which a Service that will return information on IP Addresses in order to rule out any Whitenoise when it comes to scanning. Sources like Shodan, and Censys scan the Internet regularly but mean no harm when doing so, but this service will assist us in finding the IP Addresses that could be scanning maliciously, if there are any in the current dataset.\n",
    "\n",
    "In order to do this we will take the Dataset from ThreatFox, Filter for IP Addresses, and then Apply it and have a Dataframe returned to us if there are any malicious IP Addresses to track."
   ],
   "cell_type": "markdown",
   "metadata": {}
  },
  {
   "cell_type": "code",
   "execution_count": 6,
   "metadata": {},
   "outputs": [
    {
     "output_type": "display_data",
     "data": {
      "text/plain": "      id                   ioc threat_type  \\\n18  7916      92.62.115.177:80   botnet_cc   \n19  7915    204.48.28.130:6606   botnet_cc   \n54  7880  176.111.174.14:20004   botnet_cc   \n63  7871    77.247.127.37:1777   botnet_cc   \n70  7864     185.140.53.9:9882   botnet_cc   \n\n                                     threat_type_desc ioc_type  \\\n18  Indicator that identifies a botnet command&con...  ip:port   \n19  Indicator that identifies a botnet command&con...  ip:port   \n54  Indicator that identifies a botnet command&con...  ip:port   \n63  Indicator that identifies a botnet command&con...  ip:port   \n70  Indicator that identifies a botnet command&con...  ip:port   \n\n                                        ioc_type_desc            malware  \\\n18  ip:port combination that is used for botnet Co...  win.fickerstealer   \n19  ip:port combination that is used for botnet Co...       win.asyncrat   \n54  ip:port combination that is used for botnet Co...         win.remcos   \n63  ip:port combination that is used for botnet Co...        win.bit_rat   \n70  ip:port combination that is used for botnet Co...         win.remcos   \n\n   malware_printable            malware_alias  \\\n18    Ficker Stealer                     None   \n19          AsyncRAT                     None   \n54            Remcos  RemcosRAT,Remvio,Socmer   \n63            BitRAT                     None   \n70            Remcos  RemcosRAT,Remvio,Socmer   \n\n                                     malware_malpedia  confidence_level  \\\n18  https://malpedia.caad.fkie.fraunhofer.de/detai...               100   \n19  https://malpedia.caad.fkie.fraunhofer.de/detai...               100   \n54  https://malpedia.caad.fkie.fraunhofer.de/detai...                75   \n63  https://malpedia.caad.fkie.fraunhofer.de/detai...               100   \n70  https://malpedia.caad.fkie.fraunhofer.de/detai...               100   \n\n                 first_seen last_seen  \\\n18  2021-04-13 20:16:48 UTC      None   \n19  2021-04-13 16:05:13 UTC      None   \n54  2021-04-13 08:10:34 UTC      None   \n63  2021-04-13 06:45:27 UTC      None   \n70  2021-04-13 06:00:22 UTC      None   \n\n                                            reference  reporter  \\\n18                                               None  abuse_ch   \n19                                               None  abuse_ch   \n54  https://bazaar.abuse.ch/sample/39d5de9369e325d...  abuse_ch   \n63                                               None  abuse_ch   \n70                                               None  abuse_ch   \n\n                tags  \n18   [FickerStealer]  \n19   [asyncrat, RAT]  \n54          [remcos]  \n63     [BitRAT, RAT]  \n70  [RAT, RemcosRAT]  ",
      "text/html": "<div>\n<style scoped>\n    .dataframe tbody tr th:only-of-type {\n        vertical-align: middle;\n    }\n\n    .dataframe tbody tr th {\n        vertical-align: top;\n    }\n\n    .dataframe thead th {\n        text-align: right;\n    }\n</style>\n<table border=\"1\" class=\"dataframe\">\n  <thead>\n    <tr style=\"text-align: right;\">\n      <th></th>\n      <th>id</th>\n      <th>ioc</th>\n      <th>threat_type</th>\n      <th>threat_type_desc</th>\n      <th>ioc_type</th>\n      <th>ioc_type_desc</th>\n      <th>malware</th>\n      <th>malware_printable</th>\n      <th>malware_alias</th>\n      <th>malware_malpedia</th>\n      <th>confidence_level</th>\n      <th>first_seen</th>\n      <th>last_seen</th>\n      <th>reference</th>\n      <th>reporter</th>\n      <th>tags</th>\n    </tr>\n  </thead>\n  <tbody>\n    <tr>\n      <th>18</th>\n      <td>7916</td>\n      <td>92.62.115.177:80</td>\n      <td>botnet_cc</td>\n      <td>Indicator that identifies a botnet command&amp;con...</td>\n      <td>ip:port</td>\n      <td>ip:port combination that is used for botnet Co...</td>\n      <td>win.fickerstealer</td>\n      <td>Ficker Stealer</td>\n      <td>None</td>\n      <td>https://malpedia.caad.fkie.fraunhofer.de/detai...</td>\n      <td>100</td>\n      <td>2021-04-13 20:16:48 UTC</td>\n      <td>None</td>\n      <td>None</td>\n      <td>abuse_ch</td>\n      <td>[FickerStealer]</td>\n    </tr>\n    <tr>\n      <th>19</th>\n      <td>7915</td>\n      <td>204.48.28.130:6606</td>\n      <td>botnet_cc</td>\n      <td>Indicator that identifies a botnet command&amp;con...</td>\n      <td>ip:port</td>\n      <td>ip:port combination that is used for botnet Co...</td>\n      <td>win.asyncrat</td>\n      <td>AsyncRAT</td>\n      <td>None</td>\n      <td>https://malpedia.caad.fkie.fraunhofer.de/detai...</td>\n      <td>100</td>\n      <td>2021-04-13 16:05:13 UTC</td>\n      <td>None</td>\n      <td>None</td>\n      <td>abuse_ch</td>\n      <td>[asyncrat, RAT]</td>\n    </tr>\n    <tr>\n      <th>54</th>\n      <td>7880</td>\n      <td>176.111.174.14:20004</td>\n      <td>botnet_cc</td>\n      <td>Indicator that identifies a botnet command&amp;con...</td>\n      <td>ip:port</td>\n      <td>ip:port combination that is used for botnet Co...</td>\n      <td>win.remcos</td>\n      <td>Remcos</td>\n      <td>RemcosRAT,Remvio,Socmer</td>\n      <td>https://malpedia.caad.fkie.fraunhofer.de/detai...</td>\n      <td>75</td>\n      <td>2021-04-13 08:10:34 UTC</td>\n      <td>None</td>\n      <td>https://bazaar.abuse.ch/sample/39d5de9369e325d...</td>\n      <td>abuse_ch</td>\n      <td>[remcos]</td>\n    </tr>\n    <tr>\n      <th>63</th>\n      <td>7871</td>\n      <td>77.247.127.37:1777</td>\n      <td>botnet_cc</td>\n      <td>Indicator that identifies a botnet command&amp;con...</td>\n      <td>ip:port</td>\n      <td>ip:port combination that is used for botnet Co...</td>\n      <td>win.bit_rat</td>\n      <td>BitRAT</td>\n      <td>None</td>\n      <td>https://malpedia.caad.fkie.fraunhofer.de/detai...</td>\n      <td>100</td>\n      <td>2021-04-13 06:45:27 UTC</td>\n      <td>None</td>\n      <td>None</td>\n      <td>abuse_ch</td>\n      <td>[BitRAT, RAT]</td>\n    </tr>\n    <tr>\n      <th>70</th>\n      <td>7864</td>\n      <td>185.140.53.9:9882</td>\n      <td>botnet_cc</td>\n      <td>Indicator that identifies a botnet command&amp;con...</td>\n      <td>ip:port</td>\n      <td>ip:port combination that is used for botnet Co...</td>\n      <td>win.remcos</td>\n      <td>Remcos</td>\n      <td>RemcosRAT,Remvio,Socmer</td>\n      <td>https://malpedia.caad.fkie.fraunhofer.de/detai...</td>\n      <td>100</td>\n      <td>2021-04-13 06:00:22 UTC</td>\n      <td>None</td>\n      <td>None</td>\n      <td>abuse_ch</td>\n      <td>[RAT, RemcosRAT]</td>\n    </tr>\n  </tbody>\n</table>\n</div>"
     },
     "metadata": {}
    }
   ],
   "source": [
    "# Filtering the Data Set for solely IP:Port Entries\n",
    "Suspicious_IP = IocData[IocData['ioc_type']=='ip:port']\n",
    "\n",
    "# Displaying the newly filtered Dataframe (only first 5 rows)\n",
    "display(Suspicious_IP.head(5))"
   ]
  },
  {
   "cell_type": "code",
   "execution_count": 7,
   "metadata": {},
   "outputs": [
    {
     "output_type": "stream",
     "name": "stdout",
     "text": [
      "[-] Scanning IP's...\n",
      "[+] Scan has completed\n"
     ]
    }
   ],
   "source": [
    "# Creating List object to store GreyNoise data\n",
    "GreyNoise_Data_List  = []\n",
    "\n",
    "# Iterating through the Suspicious_IP Data\n",
    "print(\"[-] Scanning IP's...\")\n",
    "for IP_Port in IocData['ioc']:\n",
    "    # Splitting the IP:Port Combination for solely the IP Address\n",
    "    IP = IP_Port.split(\":\")[0]\n",
    "    # Using our Custom Function for GreyNoise to return the Information to us\n",
    "    GreyNoise_Scan = Greynoise.lookup_IP(IP)\n",
    "    # Checks to catch any errors such as this one and will pass over it\n",
    "    if GreyNoise_Scan['message'] == \"Request is not a valid routable IPv4 address\":\n",
    "        pass\n",
    "    else:\n",
    "        # Appending the Data to the list we made above\n",
    "        GreyNoise_Data_List.append(GreyNoise_Scan)\n",
    "\n",
    "print(\"[+] Scan has completed\")\n"
   ]
  },
  {
   "cell_type": "code",
   "execution_count": 8,
   "metadata": {},
   "outputs": [
    {
     "output_type": "execute_result",
     "data": {
      "text/plain": [
       "                 ip  noise   riot  \\\n",
       "0     92.62.115.177  False  False   \n",
       "1     204.48.28.130  False  False   \n",
       "2    176.111.174.14  False  False   \n",
       "3     77.247.127.37  False  False   \n",
       "4      185.140.53.9   True  False   \n",
       "5      45.32.99.249  False  False   \n",
       "6      45.32.99.249  False  False   \n",
       "7      45.32.99.249  False  False   \n",
       "8      45.32.99.249  False  False   \n",
       "9   213.152.187.210   True  False   \n",
       "10    3.133.207.110   True  False   \n",
       "11    3.138.180.119   True  False   \n",
       "12     3.136.65.236  False  False   \n",
       "13     3.131.147.49  False  False   \n",
       "\n",
       "                                              message classification     name  \\\n",
       "0   IP not observed scanning the internet or conta...            NaN      NaN   \n",
       "1   IP not observed scanning the internet or conta...            NaN      NaN   \n",
       "2   IP not observed scanning the internet or conta...            NaN      NaN   \n",
       "3   IP not observed scanning the internet or conta...            NaN      NaN   \n",
       "4                                             Success      malicious  unknown   \n",
       "5   IP not observed scanning the internet or conta...            NaN      NaN   \n",
       "6   IP not observed scanning the internet or conta...            NaN      NaN   \n",
       "7   IP not observed scanning the internet or conta...            NaN      NaN   \n",
       "8   IP not observed scanning the internet or conta...            NaN      NaN   \n",
       "9                                             Success        unknown  unknown   \n",
       "10                                            Success        unknown  unknown   \n",
       "11                                            Success        unknown  unknown   \n",
       "12  IP not observed scanning the internet or conta...            NaN      NaN   \n",
       "13  IP not observed scanning the internet or conta...            NaN      NaN   \n",
       "\n",
       "                                           link   last_seen  \n",
       "0                                           NaN         NaN  \n",
       "1                                           NaN         NaN  \n",
       "2                                           NaN         NaN  \n",
       "3                                           NaN         NaN  \n",
       "4      https://viz.greynoise.io/ip/185.140.53.9  2021-02-12  \n",
       "5                                           NaN         NaN  \n",
       "6                                           NaN         NaN  \n",
       "7                                           NaN         NaN  \n",
       "8                                           NaN         NaN  \n",
       "9   https://viz.greynoise.io/ip/213.152.187.210  2021-04-11  \n",
       "10    https://viz.greynoise.io/ip/3.133.207.110  2020-11-28  \n",
       "11    https://viz.greynoise.io/ip/3.138.180.119  2021-02-23  \n",
       "12                                          NaN         NaN  \n",
       "13                                          NaN         NaN  "
      ],
      "text/html": "<div>\n<style scoped>\n    .dataframe tbody tr th:only-of-type {\n        vertical-align: middle;\n    }\n\n    .dataframe tbody tr th {\n        vertical-align: top;\n    }\n\n    .dataframe thead th {\n        text-align: right;\n    }\n</style>\n<table border=\"1\" class=\"dataframe\">\n  <thead>\n    <tr style=\"text-align: right;\">\n      <th></th>\n      <th>ip</th>\n      <th>noise</th>\n      <th>riot</th>\n      <th>message</th>\n      <th>classification</th>\n      <th>name</th>\n      <th>link</th>\n      <th>last_seen</th>\n    </tr>\n  </thead>\n  <tbody>\n    <tr>\n      <th>0</th>\n      <td>92.62.115.177</td>\n      <td>False</td>\n      <td>False</td>\n      <td>IP not observed scanning the internet or conta...</td>\n      <td>NaN</td>\n      <td>NaN</td>\n      <td>NaN</td>\n      <td>NaN</td>\n    </tr>\n    <tr>\n      <th>1</th>\n      <td>204.48.28.130</td>\n      <td>False</td>\n      <td>False</td>\n      <td>IP not observed scanning the internet or conta...</td>\n      <td>NaN</td>\n      <td>NaN</td>\n      <td>NaN</td>\n      <td>NaN</td>\n    </tr>\n    <tr>\n      <th>2</th>\n      <td>176.111.174.14</td>\n      <td>False</td>\n      <td>False</td>\n      <td>IP not observed scanning the internet or conta...</td>\n      <td>NaN</td>\n      <td>NaN</td>\n      <td>NaN</td>\n      <td>NaN</td>\n    </tr>\n    <tr>\n      <th>3</th>\n      <td>77.247.127.37</td>\n      <td>False</td>\n      <td>False</td>\n      <td>IP not observed scanning the internet or conta...</td>\n      <td>NaN</td>\n      <td>NaN</td>\n      <td>NaN</td>\n      <td>NaN</td>\n    </tr>\n    <tr>\n      <th>4</th>\n      <td>185.140.53.9</td>\n      <td>True</td>\n      <td>False</td>\n      <td>Success</td>\n      <td>malicious</td>\n      <td>unknown</td>\n      <td>https://viz.greynoise.io/ip/185.140.53.9</td>\n      <td>2021-02-12</td>\n    </tr>\n    <tr>\n      <th>5</th>\n      <td>45.32.99.249</td>\n      <td>False</td>\n      <td>False</td>\n      <td>IP not observed scanning the internet or conta...</td>\n      <td>NaN</td>\n      <td>NaN</td>\n      <td>NaN</td>\n      <td>NaN</td>\n    </tr>\n    <tr>\n      <th>6</th>\n      <td>45.32.99.249</td>\n      <td>False</td>\n      <td>False</td>\n      <td>IP not observed scanning the internet or conta...</td>\n      <td>NaN</td>\n      <td>NaN</td>\n      <td>NaN</td>\n      <td>NaN</td>\n    </tr>\n    <tr>\n      <th>7</th>\n      <td>45.32.99.249</td>\n      <td>False</td>\n      <td>False</td>\n      <td>IP not observed scanning the internet or conta...</td>\n      <td>NaN</td>\n      <td>NaN</td>\n      <td>NaN</td>\n      <td>NaN</td>\n    </tr>\n    <tr>\n      <th>8</th>\n      <td>45.32.99.249</td>\n      <td>False</td>\n      <td>False</td>\n      <td>IP not observed scanning the internet or conta...</td>\n      <td>NaN</td>\n      <td>NaN</td>\n      <td>NaN</td>\n      <td>NaN</td>\n    </tr>\n    <tr>\n      <th>9</th>\n      <td>213.152.187.210</td>\n      <td>True</td>\n      <td>False</td>\n      <td>Success</td>\n      <td>unknown</td>\n      <td>unknown</td>\n      <td>https://viz.greynoise.io/ip/213.152.187.210</td>\n      <td>2021-04-11</td>\n    </tr>\n    <tr>\n      <th>10</th>\n      <td>3.133.207.110</td>\n      <td>True</td>\n      <td>False</td>\n      <td>Success</td>\n      <td>unknown</td>\n      <td>unknown</td>\n      <td>https://viz.greynoise.io/ip/3.133.207.110</td>\n      <td>2020-11-28</td>\n    </tr>\n    <tr>\n      <th>11</th>\n      <td>3.138.180.119</td>\n      <td>True</td>\n      <td>False</td>\n      <td>Success</td>\n      <td>unknown</td>\n      <td>unknown</td>\n      <td>https://viz.greynoise.io/ip/3.138.180.119</td>\n      <td>2021-02-23</td>\n    </tr>\n    <tr>\n      <th>12</th>\n      <td>3.136.65.236</td>\n      <td>False</td>\n      <td>False</td>\n      <td>IP not observed scanning the internet or conta...</td>\n      <td>NaN</td>\n      <td>NaN</td>\n      <td>NaN</td>\n      <td>NaN</td>\n    </tr>\n    <tr>\n      <th>13</th>\n      <td>3.131.147.49</td>\n      <td>False</td>\n      <td>False</td>\n      <td>IP not observed scanning the internet or conta...</td>\n      <td>NaN</td>\n      <td>NaN</td>\n      <td>NaN</td>\n      <td>NaN</td>\n    </tr>\n  </tbody>\n</table>\n</div>"
     },
     "metadata": {},
     "execution_count": 8
    }
   ],
   "source": [
    "# Takes the List of Data and flattens the Json into a Dataframe\n",
    "GreyNoiseDataframe = json_normalize(GreyNoise_Data_List)\n",
    "# Displays the Dataframe\n",
    "GreyNoiseDataframe"
   ]
  },
  {
   "source": [
    "## __VirusTotal__\n",
    "----------------\n",
    "This Section is Dedicated to grabbing the Hashes from ThreatFox and pull reports from VirusTotal on them. In order to do this, we will follow the same methodology and filter out the hashes from our ThreatFox Dataset and then begin to pull information from VirusTotal.\n",
    "\n",
    "However this section will be interactive with a small Widget tool to search for reports on the hash"
   ],
   "cell_type": "markdown",
   "metadata": {}
  },
  {
   "cell_type": "code",
   "execution_count": 9,
   "metadata": {},
   "outputs": [],
   "source": [
    "# Filters for Suspicious Hashes\n",
    "Suspicious_Hashes = IocData[IocData['ioc_type']=='sha256_hash']"
   ]
  },
  {
   "cell_type": "code",
   "execution_count": 10,
   "metadata": {},
   "outputs": [
    {
     "output_type": "execute_result",
     "data": {
      "text/plain": [
       "      id                                                ioc threat_type  \\\n",
       "0   7934  a8f1fa1b80fda001331fc4cc87470e189c55653ac5d486...     payload   \n",
       "1   7933  82be061b2bfe48ee3a9f76ee99cf6f3ed712c0c1393ad4...     payload   \n",
       "2   7932  1f5992fbc69275585f817e70e7c8766e6b7a03e1b17386...     payload   \n",
       "3   7931  5af6eb871665b3bc59aea7a8bd187c80fecf392b7f5bc4...     payload   \n",
       "11  7923  f7d14c81b7dfd313809e9b0f49822ce77cf9b9913c6a45...     payload   \n",
       "\n",
       "                                     threat_type_desc     ioc_type  \\\n",
       "0   Indicator that identifies a malware sample (pa...  sha256_hash   \n",
       "1   Indicator that identifies a malware sample (pa...  sha256_hash   \n",
       "2   Indicator that identifies a malware sample (pa...  sha256_hash   \n",
       "3   Indicator that identifies a malware sample (pa...  sha256_hash   \n",
       "11  Indicator that identifies a malware sample (pa...  sha256_hash   \n",
       "\n",
       "                                ioc_type_desc          malware  \\\n",
       "0   SHA256 hash of a malware sample (payload)     win.formbook   \n",
       "1   SHA256 hash of a malware sample (payload)     win.formbook   \n",
       "2   SHA256 hash of a malware sample (payload)     win.formbook   \n",
       "3   SHA256 hash of a malware sample (payload)     win.formbook   \n",
       "11  SHA256 hash of a malware sample (payload)  win.agent_tesla   \n",
       "\n",
       "   malware_printable                   malware_alias  \\\n",
       "0           Formbook                            None   \n",
       "1           Formbook                            None   \n",
       "2           Formbook                            None   \n",
       "3           Formbook                            None   \n",
       "11       Agent Tesla  AgenTesla,AgentTesla,Negasteal   \n",
       "\n",
       "                                     malware_malpedia  confidence_level  \\\n",
       "0   https://malpedia.caad.fkie.fraunhofer.de/detai...                50   \n",
       "1   https://malpedia.caad.fkie.fraunhofer.de/detai...                50   \n",
       "2   https://malpedia.caad.fkie.fraunhofer.de/detai...                50   \n",
       "3   https://malpedia.caad.fkie.fraunhofer.de/detai...                50   \n",
       "11  https://malpedia.caad.fkie.fraunhofer.de/detai...                50   \n",
       "\n",
       "                 first_seen last_seen  \\\n",
       "0   2021-04-14 02:06:13 UTC      None   \n",
       "1   2021-04-14 02:06:13 UTC      None   \n",
       "2   2021-04-14 02:06:13 UTC      None   \n",
       "3   2021-04-14 02:06:13 UTC      None   \n",
       "11  2021-04-13 22:06:16 UTC      None   \n",
       "\n",
       "                                            reference    reporter  \\\n",
       "0   https://twitter.com/RedBeardIOCs/status/138215...  Virus_Deck   \n",
       "1   https://twitter.com/RedBeardIOCs/status/138215...  Virus_Deck   \n",
       "2   https://twitter.com/RedBeardIOCs/status/138215...  Virus_Deck   \n",
       "3   https://twitter.com/RedBeardIOCs/status/138215...  Virus_Deck   \n",
       "11  https://twitter.com/RedBeardIOCs/status/138209...  Virus_Deck   \n",
       "\n",
       "            tags  \n",
       "0     [Formbook]  \n",
       "1     [Formbook]  \n",
       "2     [Formbook]  \n",
       "3     [Formbook]  \n",
       "11  [AgentTesla]  "
      ],
      "text/html": "<div>\n<style scoped>\n    .dataframe tbody tr th:only-of-type {\n        vertical-align: middle;\n    }\n\n    .dataframe tbody tr th {\n        vertical-align: top;\n    }\n\n    .dataframe thead th {\n        text-align: right;\n    }\n</style>\n<table border=\"1\" class=\"dataframe\">\n  <thead>\n    <tr style=\"text-align: right;\">\n      <th></th>\n      <th>id</th>\n      <th>ioc</th>\n      <th>threat_type</th>\n      <th>threat_type_desc</th>\n      <th>ioc_type</th>\n      <th>ioc_type_desc</th>\n      <th>malware</th>\n      <th>malware_printable</th>\n      <th>malware_alias</th>\n      <th>malware_malpedia</th>\n      <th>confidence_level</th>\n      <th>first_seen</th>\n      <th>last_seen</th>\n      <th>reference</th>\n      <th>reporter</th>\n      <th>tags</th>\n    </tr>\n  </thead>\n  <tbody>\n    <tr>\n      <th>0</th>\n      <td>7934</td>\n      <td>a8f1fa1b80fda001331fc4cc87470e189c55653ac5d486...</td>\n      <td>payload</td>\n      <td>Indicator that identifies a malware sample (pa...</td>\n      <td>sha256_hash</td>\n      <td>SHA256 hash of a malware sample (payload)</td>\n      <td>win.formbook</td>\n      <td>Formbook</td>\n      <td>None</td>\n      <td>https://malpedia.caad.fkie.fraunhofer.de/detai...</td>\n      <td>50</td>\n      <td>2021-04-14 02:06:13 UTC</td>\n      <td>None</td>\n      <td>https://twitter.com/RedBeardIOCs/status/138215...</td>\n      <td>Virus_Deck</td>\n      <td>[Formbook]</td>\n    </tr>\n    <tr>\n      <th>1</th>\n      <td>7933</td>\n      <td>82be061b2bfe48ee3a9f76ee99cf6f3ed712c0c1393ad4...</td>\n      <td>payload</td>\n      <td>Indicator that identifies a malware sample (pa...</td>\n      <td>sha256_hash</td>\n      <td>SHA256 hash of a malware sample (payload)</td>\n      <td>win.formbook</td>\n      <td>Formbook</td>\n      <td>None</td>\n      <td>https://malpedia.caad.fkie.fraunhofer.de/detai...</td>\n      <td>50</td>\n      <td>2021-04-14 02:06:13 UTC</td>\n      <td>None</td>\n      <td>https://twitter.com/RedBeardIOCs/status/138215...</td>\n      <td>Virus_Deck</td>\n      <td>[Formbook]</td>\n    </tr>\n    <tr>\n      <th>2</th>\n      <td>7932</td>\n      <td>1f5992fbc69275585f817e70e7c8766e6b7a03e1b17386...</td>\n      <td>payload</td>\n      <td>Indicator that identifies a malware sample (pa...</td>\n      <td>sha256_hash</td>\n      <td>SHA256 hash of a malware sample (payload)</td>\n      <td>win.formbook</td>\n      <td>Formbook</td>\n      <td>None</td>\n      <td>https://malpedia.caad.fkie.fraunhofer.de/detai...</td>\n      <td>50</td>\n      <td>2021-04-14 02:06:13 UTC</td>\n      <td>None</td>\n      <td>https://twitter.com/RedBeardIOCs/status/138215...</td>\n      <td>Virus_Deck</td>\n      <td>[Formbook]</td>\n    </tr>\n    <tr>\n      <th>3</th>\n      <td>7931</td>\n      <td>5af6eb871665b3bc59aea7a8bd187c80fecf392b7f5bc4...</td>\n      <td>payload</td>\n      <td>Indicator that identifies a malware sample (pa...</td>\n      <td>sha256_hash</td>\n      <td>SHA256 hash of a malware sample (payload)</td>\n      <td>win.formbook</td>\n      <td>Formbook</td>\n      <td>None</td>\n      <td>https://malpedia.caad.fkie.fraunhofer.de/detai...</td>\n      <td>50</td>\n      <td>2021-04-14 02:06:13 UTC</td>\n      <td>None</td>\n      <td>https://twitter.com/RedBeardIOCs/status/138215...</td>\n      <td>Virus_Deck</td>\n      <td>[Formbook]</td>\n    </tr>\n    <tr>\n      <th>11</th>\n      <td>7923</td>\n      <td>f7d14c81b7dfd313809e9b0f49822ce77cf9b9913c6a45...</td>\n      <td>payload</td>\n      <td>Indicator that identifies a malware sample (pa...</td>\n      <td>sha256_hash</td>\n      <td>SHA256 hash of a malware sample (payload)</td>\n      <td>win.agent_tesla</td>\n      <td>Agent Tesla</td>\n      <td>AgenTesla,AgentTesla,Negasteal</td>\n      <td>https://malpedia.caad.fkie.fraunhofer.de/detai...</td>\n      <td>50</td>\n      <td>2021-04-13 22:06:16 UTC</td>\n      <td>None</td>\n      <td>https://twitter.com/RedBeardIOCs/status/138209...</td>\n      <td>Virus_Deck</td>\n      <td>[AgentTesla]</td>\n    </tr>\n  </tbody>\n</table>\n</div>"
     },
     "metadata": {},
     "execution_count": 10
    }
   ],
   "source": [
    "# Displays the Suspicious Hashes first 5 rows\n",
    "Suspicious_Hashes.head(5)"
   ]
  },
  {
   "cell_type": "code",
   "execution_count": 11,
   "metadata": {},
   "outputs": [
    {
     "output_type": "display_data",
     "data": {
      "text/plain": "VBox(children=(Dropdown(description='Hashes:', options=('a8f1fa1b80fda001331fc4cc87470e189c55653ac5d486e6bf3de…",
      "application/vnd.jupyter.widget-view+json": {
       "version_major": 2,
       "version_minor": 0,
       "model_id": "0426f7c9dc7740cf88a7631919087224"
      }
     },
     "metadata": {}
    }
   ],
   "source": [
    "# Building the Output of the Widgets\n",
    "VT_File_Report_Output = widgets.Output()\n",
    "\n",
    "# Building the Hash Selection Dropdown Menu\n",
    "VT_Hash_Selection = widgets.Dropdown(\n",
    "    options = Suspicious_Hashes['ioc'].tolist(),\n",
    "    description = 'Hashes:'\n",
    ")\n",
    "\n",
    "# Building the Button for the VT Hash Search\n",
    "VT_SearchButton = widgets.Button(\n",
    "    description = 'Search'\n",
    ")\n",
    "\n",
    "# adding action to the VT Search Button\n",
    "def VT_Search_Action(x):\n",
    "    with VT_File_Report_Output:\n",
    "        clear_output()\n",
    "        Report = VT.get_file_information(FileHash=VT_Hash_Selection.value)\n",
    "        print(json.dumps(Report, indent=4, sort_keys=True))\n",
    "\n",
    "# Attaching the Action Function to the button\n",
    "VT_SearchButton.on_click(VT_Search_Action)\n",
    "\n",
    "# Creating a Vertical Box to handle the widgets\n",
    "widgets.VBox([VT_Hash_Selection, VT_SearchButton, VT_File_Report_Output])"
   ]
  },
  {
   "cell_type": "code",
   "execution_count": null,
   "metadata": {},
   "outputs": [],
   "source": []
  }
 ],
 "metadata": {
  "kernelspec": {
   "display_name": "Python 3",
   "language": "python",
   "name": "python3"
  },
  "language_info": {
   "codemirror_mode": {
    "name": "ipython",
    "version": 3
   },
   "file_extension": ".py",
   "mimetype": "text/x-python",
   "name": "python",
   "nbconvert_exporter": "python",
   "pygments_lexer": "ipython3",
   "version": "3.7.5"
  }
 },
 "nbformat": 4,
 "nbformat_minor": 4
}
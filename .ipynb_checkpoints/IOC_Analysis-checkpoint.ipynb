{
 "metadata": {
  "language_info": {
   "codemirror_mode": {
    "name": "ipython",
    "version": 3
   },
   "file_extension": ".py",
   "mimetype": "text/x-python",
   "name": "python",
   "nbconvert_exporter": "python",
   "pygments_lexer": "ipython3",
   "version": "3.7.5-final"
  },
  "orig_nbformat": 2,
  "kernelspec": {
   "name": "python3",
   "display_name": "Python 3.7.5 64-bit ('base': conda)",
   "metadata": {
    "interpreter": {
     "hash": "e74b947e81b2137eae51218a69a2e689b5b85515e1198fcea6f6514b9562a62a"
    }
   }
  }
 },
 "nbformat": 4,
 "nbformat_minor": 2,
 "cells": [
  {
   "source": [
    "# __IOC Analysis__\n",
    "### By: Alejandro Perez\n",
    "----------------------------\n",
    "\n",
    "\n",
    "## Introduction\n",
    "This Notebook will be used as an test case where we will use the ThreatFox API\n",
    "to pull the most recent IOC's that have been verified and then pivot from those\n",
    "to reports from VirusTotal, Hybrid Analysis and other Sources.\n",
    "\n"
   ],
   "cell_type": "markdown",
   "metadata": {}
  },
  {
   "cell_type": "code",
   "execution_count": 11,
   "metadata": {},
   "outputs": [],
   "source": [
    "from src.ThreatFoxUtils import ThreatFox\n",
    "from src.ShodanUtils import Shodan\n",
    "\n",
    "import pandas as pd\n",
    "from pandas import json_normalize\n",
    "import ipywidgets as widgets"
   ]
  },
  {
   "cell_type": "code",
   "execution_count": 12,
   "metadata": {},
   "outputs": [],
   "source": [
    "# Gathering the IOC's for the past day\n",
    "IocData = ThreatFox.query_ioc_database(number_of_days=1)"
   ]
  },
  {
   "cell_type": "code",
   "execution_count": 13,
   "metadata": {},
   "outputs": [],
   "source": [
    "# Creates the IOC Dataframe\n",
    "Ioc_Dataframe = json_normalize(IocData)"
   ]
  },
  {
   "cell_type": "code",
   "execution_count": 14,
   "metadata": {},
   "outputs": [
    {
     "output_type": "execute_result",
     "data": {
      "text/plain": [
       "       id                                       ioc threat_type  \\\n",
       "0    5950                      141.255.155.132:1177   botnet_cc   \n",
       "1    5948                        3.134.39.220:11970   botnet_cc   \n",
       "2    5949                          3.17.7.232:11970   botnet_cc   \n",
       "3    5947                       3.134.125.175:11970   botnet_cc   \n",
       "4    5946                        3.13.191.225:11970   botnet_cc   \n",
       "..    ...                                       ...         ...   \n",
       "240  5710          http://sdigj.xyz/Z1/five/fre.php   botnet_cc   \n",
       "241  5709         http://142.11.210.173/eke/fre.php   botnet_cc   \n",
       "242  5708  https://chem.buet.ac.bd/xx/Panel/fre.php   botnet_cc   \n",
       "243  5707                 http://78.47.33.70:53647/   botnet_cc   \n",
       "244  5706   http://chem.buet.ac.bd/xx/Panel/fre.php   botnet_cc   \n",
       "\n",
       "                                      threat_type_desc ioc_type  \\\n",
       "0    Indicator that identifies a botnet command&con...  ip:port   \n",
       "1    Indicator that identifies a botnet command&con...  ip:port   \n",
       "2    Indicator that identifies a botnet command&con...  ip:port   \n",
       "3    Indicator that identifies a botnet command&con...  ip:port   \n",
       "4    Indicator that identifies a botnet command&con...  ip:port   \n",
       "..                                                 ...      ...   \n",
       "240  Indicator that identifies a botnet command&con...      url   \n",
       "241  Indicator that identifies a botnet command&con...      url   \n",
       "242  Indicator that identifies a botnet command&con...      url   \n",
       "243  Indicator that identifies a botnet command&con...      url   \n",
       "244  Indicator that identifies a botnet command&con...      url   \n",
       "\n",
       "                                         ioc_type_desc              malware  \\\n",
       "0    ip:port combination that is used for botnet Co...        win.cybergate   \n",
       "1    ip:port combination that is used for botnet Co...            win.njrat   \n",
       "2    ip:port combination that is used for botnet Co...            win.njrat   \n",
       "3    ip:port combination that is used for botnet Co...            win.njrat   \n",
       "4    ip:port combination that is used for botnet Co...            win.njrat   \n",
       "..                                                 ...                  ...   \n",
       "240  URL that is used for botnet Command&control (C&C)          win.lokipws   \n",
       "241  URL that is used for botnet Command&control (C&C)          win.lokipws   \n",
       "242  URL that is used for botnet Command&control (C&C)          win.lokipws   \n",
       "243  URL that is used for botnet Command&control (C&C)  win.redline_stealer   \n",
       "244  URL that is used for botnet Command&control (C&C)          win.lokipws   \n",
       "\n",
       "               malware_printable         malware_alias  \\\n",
       "0                      CyberGate                Rebhip   \n",
       "1                          NjRAT            Bladabindi   \n",
       "2                          NjRAT            Bladabindi   \n",
       "3                          NjRAT            Bladabindi   \n",
       "4                          NjRAT            Bladabindi   \n",
       "..                           ...                   ...   \n",
       "240  Loki Password Stealer (PWS)  Loki,LokiPWS,LokiBot   \n",
       "241  Loki Password Stealer (PWS)  Loki,LokiPWS,LokiBot   \n",
       "242  Loki Password Stealer (PWS)  Loki,LokiPWS,LokiBot   \n",
       "243              RedLine Stealer                  None   \n",
       "244  Loki Password Stealer (PWS)  Loki,LokiPWS,LokiBot   \n",
       "\n",
       "                                      malware_malpedia  confidence_level  \\\n",
       "0    https://malpedia.caad.fkie.fraunhofer.de/detai...               100   \n",
       "1    https://malpedia.caad.fkie.fraunhofer.de/detai...               100   \n",
       "2    https://malpedia.caad.fkie.fraunhofer.de/detai...               100   \n",
       "3    https://malpedia.caad.fkie.fraunhofer.de/detai...               100   \n",
       "4    https://malpedia.caad.fkie.fraunhofer.de/detai...               100   \n",
       "..                                                 ...               ...   \n",
       "240  https://malpedia.caad.fkie.fraunhofer.de/detai...               100   \n",
       "241  https://malpedia.caad.fkie.fraunhofer.de/detai...               100   \n",
       "242  https://malpedia.caad.fkie.fraunhofer.de/detai...                75   \n",
       "243  https://malpedia.caad.fkie.fraunhofer.de/detai...               100   \n",
       "244  https://malpedia.caad.fkie.fraunhofer.de/detai...               100   \n",
       "\n",
       "                  first_seen last_seen  \\\n",
       "0    2021-03-30 01:25:58 UTC      None   \n",
       "1    2021-03-30 01:20:37 UTC      None   \n",
       "2    2021-03-30 01:20:37 UTC      None   \n",
       "3    2021-03-30 01:20:36 UTC      None   \n",
       "4    2021-03-30 01:20:35 UTC      None   \n",
       "..                       ...       ...   \n",
       "240  2021-03-29 05:30:37 UTC      None   \n",
       "241  2021-03-29 04:30:35 UTC      None   \n",
       "242  2021-03-29 02:35:08 UTC      None   \n",
       "243  2021-03-29 02:30:22 UTC      None   \n",
       "244  2021-03-29 02:30:20 UTC      None   \n",
       "\n",
       "                                             reference  reporter  \\\n",
       "0                                                 None  abuse_ch   \n",
       "1                                                 None  abuse_ch   \n",
       "2                                                 None  abuse_ch   \n",
       "3                                                 None  abuse_ch   \n",
       "4                                                 None  abuse_ch   \n",
       "..                                                 ...       ...   \n",
       "240                                               None  abuse_ch   \n",
       "241                                               None  abuse_ch   \n",
       "242  https://bazaar.abuse.ch/sample/b6240ac6b40fb0a...  abuse_ch   \n",
       "243                                               None  abuse_ch   \n",
       "244                                               None  abuse_ch   \n",
       "\n",
       "                 tags  \n",
       "0         [Cybergate]  \n",
       "1             [njrat]  \n",
       "2             [njrat]  \n",
       "3             [njrat]  \n",
       "4             [njrat]  \n",
       "..                ...  \n",
       "240            [Loki]  \n",
       "241            [Loki]  \n",
       "242         [LokiBot]  \n",
       "243  [RedLineStealer]  \n",
       "244            [Loki]  \n",
       "\n",
       "[245 rows x 16 columns]"
      ],
      "text/html": "<div>\n<style scoped>\n    .dataframe tbody tr th:only-of-type {\n        vertical-align: middle;\n    }\n\n    .dataframe tbody tr th {\n        vertical-align: top;\n    }\n\n    .dataframe thead th {\n        text-align: right;\n    }\n</style>\n<table border=\"1\" class=\"dataframe\">\n  <thead>\n    <tr style=\"text-align: right;\">\n      <th></th>\n      <th>id</th>\n      <th>ioc</th>\n      <th>threat_type</th>\n      <th>threat_type_desc</th>\n      <th>ioc_type</th>\n      <th>ioc_type_desc</th>\n      <th>malware</th>\n      <th>malware_printable</th>\n      <th>malware_alias</th>\n      <th>malware_malpedia</th>\n      <th>confidence_level</th>\n      <th>first_seen</th>\n      <th>last_seen</th>\n      <th>reference</th>\n      <th>reporter</th>\n      <th>tags</th>\n    </tr>\n  </thead>\n  <tbody>\n    <tr>\n      <th>0</th>\n      <td>5950</td>\n      <td>141.255.155.132:1177</td>\n      <td>botnet_cc</td>\n      <td>Indicator that identifies a botnet command&amp;con...</td>\n      <td>ip:port</td>\n      <td>ip:port combination that is used for botnet Co...</td>\n      <td>win.cybergate</td>\n      <td>CyberGate</td>\n      <td>Rebhip</td>\n      <td>https://malpedia.caad.fkie.fraunhofer.de/detai...</td>\n      <td>100</td>\n      <td>2021-03-30 01:25:58 UTC</td>\n      <td>None</td>\n      <td>None</td>\n      <td>abuse_ch</td>\n      <td>[Cybergate]</td>\n    </tr>\n    <tr>\n      <th>1</th>\n      <td>5948</td>\n      <td>3.134.39.220:11970</td>\n      <td>botnet_cc</td>\n      <td>Indicator that identifies a botnet command&amp;con...</td>\n      <td>ip:port</td>\n      <td>ip:port combination that is used for botnet Co...</td>\n      <td>win.njrat</td>\n      <td>NjRAT</td>\n      <td>Bladabindi</td>\n      <td>https://malpedia.caad.fkie.fraunhofer.de/detai...</td>\n      <td>100</td>\n      <td>2021-03-30 01:20:37 UTC</td>\n      <td>None</td>\n      <td>None</td>\n      <td>abuse_ch</td>\n      <td>[njrat]</td>\n    </tr>\n    <tr>\n      <th>2</th>\n      <td>5949</td>\n      <td>3.17.7.232:11970</td>\n      <td>botnet_cc</td>\n      <td>Indicator that identifies a botnet command&amp;con...</td>\n      <td>ip:port</td>\n      <td>ip:port combination that is used for botnet Co...</td>\n      <td>win.njrat</td>\n      <td>NjRAT</td>\n      <td>Bladabindi</td>\n      <td>https://malpedia.caad.fkie.fraunhofer.de/detai...</td>\n      <td>100</td>\n      <td>2021-03-30 01:20:37 UTC</td>\n      <td>None</td>\n      <td>None</td>\n      <td>abuse_ch</td>\n      <td>[njrat]</td>\n    </tr>\n    <tr>\n      <th>3</th>\n      <td>5947</td>\n      <td>3.134.125.175:11970</td>\n      <td>botnet_cc</td>\n      <td>Indicator that identifies a botnet command&amp;con...</td>\n      <td>ip:port</td>\n      <td>ip:port combination that is used for botnet Co...</td>\n      <td>win.njrat</td>\n      <td>NjRAT</td>\n      <td>Bladabindi</td>\n      <td>https://malpedia.caad.fkie.fraunhofer.de/detai...</td>\n      <td>100</td>\n      <td>2021-03-30 01:20:36 UTC</td>\n      <td>None</td>\n      <td>None</td>\n      <td>abuse_ch</td>\n      <td>[njrat]</td>\n    </tr>\n    <tr>\n      <th>4</th>\n      <td>5946</td>\n      <td>3.13.191.225:11970</td>\n      <td>botnet_cc</td>\n      <td>Indicator that identifies a botnet command&amp;con...</td>\n      <td>ip:port</td>\n      <td>ip:port combination that is used for botnet Co...</td>\n      <td>win.njrat</td>\n      <td>NjRAT</td>\n      <td>Bladabindi</td>\n      <td>https://malpedia.caad.fkie.fraunhofer.de/detai...</td>\n      <td>100</td>\n      <td>2021-03-30 01:20:35 UTC</td>\n      <td>None</td>\n      <td>None</td>\n      <td>abuse_ch</td>\n      <td>[njrat]</td>\n    </tr>\n    <tr>\n      <th>...</th>\n      <td>...</td>\n      <td>...</td>\n      <td>...</td>\n      <td>...</td>\n      <td>...</td>\n      <td>...</td>\n      <td>...</td>\n      <td>...</td>\n      <td>...</td>\n      <td>...</td>\n      <td>...</td>\n      <td>...</td>\n      <td>...</td>\n      <td>...</td>\n      <td>...</td>\n      <td>...</td>\n    </tr>\n    <tr>\n      <th>240</th>\n      <td>5710</td>\n      <td>http://sdigj.xyz/Z1/five/fre.php</td>\n      <td>botnet_cc</td>\n      <td>Indicator that identifies a botnet command&amp;con...</td>\n      <td>url</td>\n      <td>URL that is used for botnet Command&amp;control (C&amp;C)</td>\n      <td>win.lokipws</td>\n      <td>Loki Password Stealer (PWS)</td>\n      <td>Loki,LokiPWS,LokiBot</td>\n      <td>https://malpedia.caad.fkie.fraunhofer.de/detai...</td>\n      <td>100</td>\n      <td>2021-03-29 05:30:37 UTC</td>\n      <td>None</td>\n      <td>None</td>\n      <td>abuse_ch</td>\n      <td>[Loki]</td>\n    </tr>\n    <tr>\n      <th>241</th>\n      <td>5709</td>\n      <td>http://142.11.210.173/eke/fre.php</td>\n      <td>botnet_cc</td>\n      <td>Indicator that identifies a botnet command&amp;con...</td>\n      <td>url</td>\n      <td>URL that is used for botnet Command&amp;control (C&amp;C)</td>\n      <td>win.lokipws</td>\n      <td>Loki Password Stealer (PWS)</td>\n      <td>Loki,LokiPWS,LokiBot</td>\n      <td>https://malpedia.caad.fkie.fraunhofer.de/detai...</td>\n      <td>100</td>\n      <td>2021-03-29 04:30:35 UTC</td>\n      <td>None</td>\n      <td>None</td>\n      <td>abuse_ch</td>\n      <td>[Loki]</td>\n    </tr>\n    <tr>\n      <th>242</th>\n      <td>5708</td>\n      <td>https://chem.buet.ac.bd/xx/Panel/fre.php</td>\n      <td>botnet_cc</td>\n      <td>Indicator that identifies a botnet command&amp;con...</td>\n      <td>url</td>\n      <td>URL that is used for botnet Command&amp;control (C&amp;C)</td>\n      <td>win.lokipws</td>\n      <td>Loki Password Stealer (PWS)</td>\n      <td>Loki,LokiPWS,LokiBot</td>\n      <td>https://malpedia.caad.fkie.fraunhofer.de/detai...</td>\n      <td>75</td>\n      <td>2021-03-29 02:35:08 UTC</td>\n      <td>None</td>\n      <td>https://bazaar.abuse.ch/sample/b6240ac6b40fb0a...</td>\n      <td>abuse_ch</td>\n      <td>[LokiBot]</td>\n    </tr>\n    <tr>\n      <th>243</th>\n      <td>5707</td>\n      <td>http://78.47.33.70:53647/</td>\n      <td>botnet_cc</td>\n      <td>Indicator that identifies a botnet command&amp;con...</td>\n      <td>url</td>\n      <td>URL that is used for botnet Command&amp;control (C&amp;C)</td>\n      <td>win.redline_stealer</td>\n      <td>RedLine Stealer</td>\n      <td>None</td>\n      <td>https://malpedia.caad.fkie.fraunhofer.de/detai...</td>\n      <td>100</td>\n      <td>2021-03-29 02:30:22 UTC</td>\n      <td>None</td>\n      <td>None</td>\n      <td>abuse_ch</td>\n      <td>[RedLineStealer]</td>\n    </tr>\n    <tr>\n      <th>244</th>\n      <td>5706</td>\n      <td>http://chem.buet.ac.bd/xx/Panel/fre.php</td>\n      <td>botnet_cc</td>\n      <td>Indicator that identifies a botnet command&amp;con...</td>\n      <td>url</td>\n      <td>URL that is used for botnet Command&amp;control (C&amp;C)</td>\n      <td>win.lokipws</td>\n      <td>Loki Password Stealer (PWS)</td>\n      <td>Loki,LokiPWS,LokiBot</td>\n      <td>https://malpedia.caad.fkie.fraunhofer.de/detai...</td>\n      <td>100</td>\n      <td>2021-03-29 02:30:20 UTC</td>\n      <td>None</td>\n      <td>None</td>\n      <td>abuse_ch</td>\n      <td>[Loki]</td>\n    </tr>\n  </tbody>\n</table>\n<p>245 rows × 16 columns</p>\n</div>"
     },
     "metadata": {},
     "execution_count": 14
    }
   ],
   "source": [
    "Ioc_Dataframe"
   ]
  },
  {
   "cell_type": "code",
   "execution_count": null,
   "metadata": {},
   "outputs": [],
   "source": []
  }
 ]
}